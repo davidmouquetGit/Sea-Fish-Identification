{
 "cells": [
  {
   "cell_type": "code",
   "execution_count": 17,
   "id": "cc26225c",
   "metadata": {},
   "outputs": [],
   "source": [
    "from duckduckgo_search import DDGS\n",
    "import os, requests\n",
    "\n",
    "def download_duckduckgo_images(query, max_results=5, output_dir=\"images\"):\n",
    "    os.makedirs(output_dir, exist_ok=True)\n",
    "\n",
    "    with DDGS() as ddgs:\n",
    "        results = ddgs.images(query, max_results=max_results)\n",
    "        for i, r in enumerate(results):\n",
    "            url = r[\"image\"]\n",
    "            try:\n",
    "                img = requests.get(url).content\n",
    "                ext = url.split(\".\")[-1].split(\"?\")[0][:4]\n",
    "                with open(f\"{output_dir}/{query.replace(' ', '_')}_{i}.{ext}\", \"wb\") as f:\n",
    "                    f.write(img)\n",
    "                print(f\"Téléchargée : {url}\")\n",
    "            except Exception as e:\n",
    "                print(f\"Échec pour {url} : {e}\")\n",
    "\n"
   ]
  },
  {
   "cell_type": "code",
   "execution_count": 18,
   "id": "c8386558",
   "metadata": {},
   "outputs": [],
   "source": [
    "species = ['bar',\n",
    "           'maquerau',\n",
    "           'chinchard',\n",
    "           'lieu jaune',\n",
    "           'cabillaud',\n",
    "           'congre',\n",
    "           'dorade grise',\n",
    "           'daurade royale',\n",
    "           'rouget barbet',\n",
    "           'rouget grondin',\n",
    "           'grondin rouge',\n",
    "           'petite roussette',\n",
    "           'grande roussette',\n",
    "           'sole',\n",
    "           'plie',\n",
    "           'turbot',\n",
    "           'st pierre',\n",
    "           'maigre',\n",
    "           'mulet',\n",
    "           'merlan',\n",
    "           'raie douce',\n",
    "           'sardine',\n",
    "           'sébaste',\n",
    "           'tacaud',\n",
    "            'thon rouge',\n",
    "            'vieille',\n",
    "            'vive']"
   ]
  },
  {
   "cell_type": "code",
   "execution_count": 1,
   "id": "5b3512a1",
   "metadata": {},
   "outputs": [
    {
     "name": "stdout",
     "output_type": "stream",
     "text": [
      "bar\n",
      "maquerau\n",
      "chinchard\n",
      "lieu jaune\n",
      "cabillaud\n",
      "congre\n",
      "dorade grise\n",
      "daurade royale\n",
      "rouget barbet\n",
      "rouget grondin\n",
      "grondin rouge\n",
      "petite roussette\n",
      "grande roussette\n",
      "sole\n",
      "plie\n",
      "turbot\n",
      "st pierre\n",
      "maigre\n",
      "mulet\n",
      "merlan\n",
      "raie douce\n",
      "sardine\n",
      "sébaste\n",
      "tacaud\n",
      "thon rouge\n",
      "vieille\n",
      "vive\n"
     ]
    }
   ],
   "source": [
    "import os\n",
    "species = ['bar',\n",
    "           'maquerau',\n",
    "           'chinchard',\n",
    "           'lieu jaune',\n",
    "           'cabillaud',\n",
    "           'congre',\n",
    "           'dorade grise',\n",
    "           'daurade royale',\n",
    "           'rouget barbet',\n",
    "           'rouget grondin',\n",
    "           'grondin rouge',\n",
    "           'petite roussette',\n",
    "           'grande roussette',\n",
    "           'sole',\n",
    "           'plie',\n",
    "           'turbot',\n",
    "           'st pierre',\n",
    "           'maigre',\n",
    "           'mulet',\n",
    "           'merlan',\n",
    "           'raie douce',\n",
    "           'sardine',\n",
    "           'sébaste',\n",
    "           'tacaud',\n",
    "            'thon rouge',\n",
    "            'vieille',\n",
    "            'vive']\n",
    "\n",
    "for p in species:\n",
    "    if not os.path.exists(\"images/val/\"+p):\n",
    "        print(p)\n",
    "        os.mkdir(\"images/val/\"+p)"
   ]
  },
  {
   "cell_type": "code",
   "execution_count": 3,
   "id": "4691239e",
   "metadata": {},
   "outputs": [
    {
     "name": "stdout",
     "output_type": "stream",
     "text": [
      "Collecting beautifulsoup4\n",
      "  Downloading beautifulsoup4-4.13.4-py3-none-any.whl (187 kB)\n",
      "     ---------------------------------------- 0.0/187.3 kB ? eta -:--:--\n",
      "     ------------------------------------- 187.3/187.3 kB 11.8 MB/s eta 0:00:00\n",
      "Requirement already satisfied: typing-extensions>=4.0.0 in c:\\users\\david\\appdata\\roaming\\python\\python310\\site-packages (from beautifulsoup4) (4.14.1)\n",
      "Collecting soupsieve>1.2\n",
      "  Downloading soupsieve-2.7-py3-none-any.whl (36 kB)\n",
      "Installing collected packages: soupsieve, beautifulsoup4\n",
      "Successfully installed beautifulsoup4-4.13.4 soupsieve-2.7\n"
     ]
    },
    {
     "name": "stderr",
     "output_type": "stream",
     "text": [
      "\n",
      "[notice] A new release of pip is available: 23.0.1 -> 25.1.1\n",
      "[notice] To update, run: python.exe -m pip install --upgrade pip\n"
     ]
    }
   ],
   "source": [
    "!pip install beautifulsoup4"
   ]
  },
  {
   "cell_type": "code",
   "execution_count": 5,
   "id": "7a652736",
   "metadata": {},
   "outputs": [],
   "source": [
    "import requests\n",
    "from bs4 import BeautifulSoup\n",
    "import os\n",
    "\n",
    "def download_pixabay(query, limit=20, output_dir=\"data\"):\n",
    "    os.makedirs(output_dir, exist_ok=True)\n",
    "    url = f\"https://pixabay.com/fr/images/search/{query}/\"\n",
    "    resp = requests.get(url)\n",
    "    soup = BeautifulSoup(resp.text, 'html.parser')\n",
    "    imgs = soup.select('img')[:limit]\n",
    "    for i, img in enumerate(imgs):\n",
    "        src = img.get('src')\n",
    "        if src:\n",
    "            img_data = requests.get(src).content\n",
    "            with open(f\"{output_dir}/{query}_{i}.jpg\", 'wb') as f:\n",
    "                f.write(img_data)\n",
    "            print(f\"Downloaded {src}\")\n",
    "\n",
    "download_pixabay('dorade-grise', limit=10)"
   ]
  }
 ],
 "metadata": {
  "kernelspec": {
   "display_name": "Python 3",
   "language": "python",
   "name": "python3"
  },
  "language_info": {
   "codemirror_mode": {
    "name": "ipython",
    "version": 3
   },
   "file_extension": ".py",
   "mimetype": "text/x-python",
   "name": "python",
   "nbconvert_exporter": "python",
   "pygments_lexer": "ipython3",
   "version": "3.10.11"
  }
 },
 "nbformat": 4,
 "nbformat_minor": 5
}
